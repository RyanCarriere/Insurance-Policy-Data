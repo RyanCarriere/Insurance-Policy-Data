{
 "cells": [
  {
   "cell_type": "code",
   "execution_count": 1,
   "metadata": {
    "scrolled": false
   },
   "outputs": [
    {
     "name": "stdout",
     "output_type": "stream",
     "text": [
      "Requirement already satisfied: pandas-profiling in c:\\users\\grays\\anaconda3\\lib\\site-packages (2.9.0)\n",
      "Requirement already satisfied: joblib in c:\\users\\grays\\anaconda3\\lib\\site-packages (from pandas-profiling) (0.15.1)\n",
      "Requirement already satisfied: scipy>=1.4.1 in c:\\users\\grays\\anaconda3\\lib\\site-packages (from pandas-profiling) (1.4.1)\n",
      "Requirement already satisfied: missingno>=0.4.2 in c:\\users\\grays\\anaconda3\\lib\\site-packages (from pandas-profiling) (0.4.2)\n",
      "Requirement already satisfied: attrs>=19.3.0 in c:\\users\\grays\\anaconda3\\lib\\site-packages (from pandas-profiling) (19.3.0)\n",
      "Requirement already satisfied: tangled-up-in-unicode>=0.0.6 in c:\\users\\grays\\anaconda3\\lib\\site-packages (from pandas-profiling) (0.0.6)\n",
      "Requirement already satisfied: jinja2>=2.11.1 in c:\\users\\grays\\anaconda3\\lib\\site-packages (from pandas-profiling) (2.11.2)\n",
      "Requirement already satisfied: pandas!=1.0.0,!=1.0.1,!=1.0.2,!=1.1.0,>=0.25.3 in c:\\users\\grays\\anaconda3\\lib\\site-packages (from pandas-profiling) (1.0.5)\n",
      "Requirement already satisfied: htmlmin>=0.1.12 in c:\\users\\grays\\anaconda3\\lib\\site-packages (from pandas-profiling) (0.1.12)\n",
      "Requirement already satisfied: matplotlib>=3.2.0 in c:\\users\\grays\\anaconda3\\lib\\site-packages (from pandas-profiling) (3.2.2)\n",
      "Requirement already satisfied: ipywidgets>=7.5.1 in c:\\users\\grays\\anaconda3\\lib\\site-packages (from pandas-profiling) (7.5.1)\n",
      "Requirement already satisfied: requests>=2.23.0 in c:\\users\\grays\\anaconda3\\lib\\site-packages (from pandas-profiling) (2.24.0)\n",
      "Requirement already satisfied: numpy>=1.16.0 in c:\\users\\grays\\anaconda3\\lib\\site-packages (from pandas-profiling) (1.18.5)\n",
      "Requirement already satisfied: confuse>=1.0.0 in c:\\users\\grays\\anaconda3\\lib\\site-packages (from pandas-profiling) (1.3.0)\n",
      "Requirement already satisfied: tqdm>=4.43.0 in c:\\users\\grays\\anaconda3\\lib\\site-packages (from pandas-profiling) (4.46.1)\n",
      "Requirement already satisfied: visions[type_image_path]==0.5.0 in c:\\users\\grays\\anaconda3\\lib\\site-packages (from pandas-profiling) (0.5.0)\n",
      "Requirement already satisfied: seaborn>=0.10.1 in c:\\users\\grays\\anaconda3\\lib\\site-packages (from pandas-profiling) (0.10.1)\n",
      "Requirement already satisfied: phik>=0.9.10 in c:\\users\\grays\\anaconda3\\lib\\site-packages (from pandas-profiling) (0.10.0)\n",
      "Requirement already satisfied: MarkupSafe>=0.23 in c:\\users\\grays\\anaconda3\\lib\\site-packages (from jinja2>=2.11.1->pandas-profiling) (1.1.1)\n",
      "Requirement already satisfied: pytz>=2017.2 in c:\\users\\grays\\anaconda3\\lib\\site-packages (from pandas!=1.0.0,!=1.0.1,!=1.0.2,!=1.1.0,>=0.25.3->pandas-profiling) (2020.1)\n",
      "Requirement already satisfied: python-dateutil>=2.6.1 in c:\\users\\grays\\anaconda3\\lib\\site-packages (from pandas!=1.0.0,!=1.0.1,!=1.0.2,!=1.1.0,>=0.25.3->pandas-profiling) (2.8.1)\n",
      "Requirement already satisfied: cycler>=0.10 in c:\\users\\grays\\anaconda3\\lib\\site-packages (from matplotlib>=3.2.0->pandas-profiling) (0.10.0)\n",
      "Requirement already satisfied: kiwisolver>=1.0.1 in c:\\users\\grays\\anaconda3\\lib\\site-packages (from matplotlib>=3.2.0->pandas-profiling) (1.2.0)\n",
      "Requirement already satisfied: pyparsing!=2.0.4,!=2.1.2,!=2.1.6,>=2.0.1 in c:\\users\\grays\\anaconda3\\lib\\site-packages (from matplotlib>=3.2.0->pandas-profiling) (2.4.7)\n",
      "Requirement already satisfied: ipykernel>=4.5.1 in c:\\users\\grays\\anaconda3\\lib\\site-packages (from ipywidgets>=7.5.1->pandas-profiling) (5.3.0)\n",
      "Requirement already satisfied: traitlets>=4.3.1 in c:\\users\\grays\\anaconda3\\lib\\site-packages (from ipywidgets>=7.5.1->pandas-profiling) (4.3.3)\n",
      "Requirement already satisfied: widgetsnbextension~=3.5.0 in c:\\users\\grays\\anaconda3\\lib\\site-packages (from ipywidgets>=7.5.1->pandas-profiling) (3.5.1)\n",
      "Requirement already satisfied: ipython>=4.0.0; python_version >= \"3.3\" in c:\\users\\grays\\anaconda3\\lib\\site-packages (from ipywidgets>=7.5.1->pandas-profiling) (7.15.0)\n",
      "Requirement already satisfied: nbformat>=4.2.0 in c:\\users\\grays\\anaconda3\\lib\\site-packages (from ipywidgets>=7.5.1->pandas-profiling) (5.0.7)\n",
      "Requirement already satisfied: chardet<4,>=3.0.2 in c:\\users\\grays\\anaconda3\\lib\\site-packages (from requests>=2.23.0->pandas-profiling) (3.0.4)\n",
      "Requirement already satisfied: urllib3!=1.25.0,!=1.25.1,<1.26,>=1.21.1 in c:\\users\\grays\\anaconda3\\lib\\site-packages (from requests>=2.23.0->pandas-profiling) (1.25.9)\n",
      "Requirement already satisfied: certifi>=2017.4.17 in c:\\users\\grays\\anaconda3\\lib\\site-packages (from requests>=2.23.0->pandas-profiling) (2020.6.20)\n",
      "Requirement already satisfied: idna<3,>=2.5 in c:\\users\\grays\\anaconda3\\lib\\site-packages (from requests>=2.23.0->pandas-profiling) (2.9)\n",
      "Requirement already satisfied: pyyaml in c:\\users\\grays\\anaconda3\\lib\\site-packages (from confuse>=1.0.0->pandas-profiling) (5.3.1)\n",
      "Requirement already satisfied: networkx>=2.4 in c:\\users\\grays\\anaconda3\\lib\\site-packages (from visions[type_image_path]==0.5.0->pandas-profiling) (2.4)\n",
      "Requirement already satisfied: imagehash; extra == \"type_image_path\" in c:\\users\\grays\\anaconda3\\lib\\site-packages (from visions[type_image_path]==0.5.0->pandas-profiling) (4.1.0)\n",
      "Requirement already satisfied: Pillow; extra == \"type_image_path\" in c:\\users\\grays\\anaconda3\\lib\\site-packages (from visions[type_image_path]==0.5.0->pandas-profiling) (7.1.2)\n",
      "Requirement already satisfied: numba>=0.38.1 in c:\\users\\grays\\anaconda3\\lib\\site-packages (from phik>=0.9.10->pandas-profiling) (0.49.1)\n",
      "Requirement already satisfied: six>=1.5 in c:\\users\\grays\\anaconda3\\lib\\site-packages (from python-dateutil>=2.6.1->pandas!=1.0.0,!=1.0.1,!=1.0.2,!=1.1.0,>=0.25.3->pandas-profiling) (1.15.0)\n",
      "Requirement already satisfied: jupyter-client in c:\\users\\grays\\anaconda3\\lib\\site-packages (from ipykernel>=4.5.1->ipywidgets>=7.5.1->pandas-profiling) (6.1.3)\n",
      "Requirement already satisfied: tornado>=4.2 in c:\\users\\grays\\anaconda3\\lib\\site-packages (from ipykernel>=4.5.1->ipywidgets>=7.5.1->pandas-profiling) (6.0.4)\n",
      "Requirement already satisfied: decorator in c:\\users\\grays\\anaconda3\\lib\\site-packages (from traitlets>=4.3.1->ipywidgets>=7.5.1->pandas-profiling) (4.4.2)\n",
      "Requirement already satisfied: ipython-genutils in c:\\users\\grays\\anaconda3\\lib\\site-packages (from traitlets>=4.3.1->ipywidgets>=7.5.1->pandas-profiling) (0.2.0)\n",
      "Requirement already satisfied: notebook>=4.4.1 in c:\\users\\grays\\anaconda3\\lib\\site-packages (from widgetsnbextension~=3.5.0->ipywidgets>=7.5.1->pandas-profiling) (6.0.3)\n",
      "Requirement already satisfied: jedi>=0.10 in c:\\users\\grays\\anaconda3\\lib\\site-packages (from ipython>=4.0.0; python_version >= \"3.3\"->ipywidgets>=7.5.1->pandas-profiling) (0.15.2)\n",
      "Requirement already satisfied: pygments in c:\\users\\grays\\anaconda3\\lib\\site-packages (from ipython>=4.0.0; python_version >= \"3.3\"->ipywidgets>=7.5.1->pandas-profiling) (2.6.1)\n",
      "Requirement already satisfied: setuptools>=18.5 in c:\\users\\grays\\anaconda3\\lib\\site-packages (from ipython>=4.0.0; python_version >= \"3.3\"->ipywidgets>=7.5.1->pandas-profiling) (47.3.1.post20200622)\n",
      "Requirement already satisfied: pickleshare in c:\\users\\grays\\anaconda3\\lib\\site-packages (from ipython>=4.0.0; python_version >= \"3.3\"->ipywidgets>=7.5.1->pandas-profiling) (0.7.5)\n",
      "Requirement already satisfied: backcall in c:\\users\\grays\\anaconda3\\lib\\site-packages (from ipython>=4.0.0; python_version >= \"3.3\"->ipywidgets>=7.5.1->pandas-profiling) (0.2.0)\n",
      "Requirement already satisfied: colorama; sys_platform == \"win32\" in c:\\users\\grays\\anaconda3\\lib\\site-packages (from ipython>=4.0.0; python_version >= \"3.3\"->ipywidgets>=7.5.1->pandas-profiling) (0.4.3)\n",
      "Requirement already satisfied: prompt-toolkit!=3.0.0,!=3.0.1,<3.1.0,>=2.0.0 in c:\\users\\grays\\anaconda3\\lib\\site-packages (from ipython>=4.0.0; python_version >= \"3.3\"->ipywidgets>=7.5.1->pandas-profiling) (3.0.5)\n",
      "Requirement already satisfied: jsonschema!=2.5.0,>=2.4 in c:\\users\\grays\\anaconda3\\lib\\site-packages (from nbformat>=4.2.0->ipywidgets>=7.5.1->pandas-profiling) (3.2.0)\n",
      "Requirement already satisfied: jupyter-core in c:\\users\\grays\\anaconda3\\lib\\site-packages (from nbformat>=4.2.0->ipywidgets>=7.5.1->pandas-profiling) (4.6.3)\n",
      "Requirement already satisfied: PyWavelets in c:\\users\\grays\\anaconda3\\lib\\site-packages (from imagehash; extra == \"type_image_path\"->visions[type_image_path]==0.5.0->pandas-profiling) (1.1.1)\n",
      "Requirement already satisfied: llvmlite<=0.33.0.dev0,>=0.31.0.dev0 in c:\\users\\grays\\anaconda3\\lib\\site-packages (from numba>=0.38.1->phik>=0.9.10->pandas-profiling) (0.32.1)\n",
      "Requirement already satisfied: pyzmq>=13 in c:\\users\\grays\\anaconda3\\lib\\site-packages (from jupyter-client->ipykernel>=4.5.1->ipywidgets>=7.5.1->pandas-profiling) (18.1.1)\n",
      "Requirement already satisfied: nbconvert in c:\\users\\grays\\anaconda3\\lib\\site-packages (from notebook>=4.4.1->widgetsnbextension~=3.5.0->ipywidgets>=7.5.1->pandas-profiling) (5.6.1)\n",
      "Requirement already satisfied: terminado>=0.8.1 in c:\\users\\grays\\anaconda3\\lib\\site-packages (from notebook>=4.4.1->widgetsnbextension~=3.5.0->ipywidgets>=7.5.1->pandas-profiling) (0.8.3)\n",
      "Requirement already satisfied: Send2Trash in c:\\users\\grays\\anaconda3\\lib\\site-packages (from notebook>=4.4.1->widgetsnbextension~=3.5.0->ipywidgets>=7.5.1->pandas-profiling) (1.5.0)\n",
      "Requirement already satisfied: prometheus-client in c:\\users\\grays\\anaconda3\\lib\\site-packages (from notebook>=4.4.1->widgetsnbextension~=3.5.0->ipywidgets>=7.5.1->pandas-profiling) (0.8.0)\n",
      "Requirement already satisfied: parso>=0.5.2 in c:\\users\\grays\\anaconda3\\lib\\site-packages (from jedi>=0.10->ipython>=4.0.0; python_version >= \"3.3\"->ipywidgets>=7.5.1->pandas-profiling) (0.5.2)\n",
      "Requirement already satisfied: wcwidth in c:\\users\\grays\\anaconda3\\lib\\site-packages (from prompt-toolkit!=3.0.0,!=3.0.1,<3.1.0,>=2.0.0->ipython>=4.0.0; python_version >= \"3.3\"->ipywidgets>=7.5.1->pandas-profiling) (0.2.4)\n",
      "Requirement already satisfied: importlib-metadata; python_version < \"3.8\" in c:\\users\\grays\\anaconda3\\lib\\site-packages (from jsonschema!=2.5.0,>=2.4->nbformat>=4.2.0->ipywidgets>=7.5.1->pandas-profiling) (1.6.1)\n",
      "Requirement already satisfied: pyrsistent>=0.14.0 in c:\\users\\grays\\anaconda3\\lib\\site-packages (from jsonschema!=2.5.0,>=2.4->nbformat>=4.2.0->ipywidgets>=7.5.1->pandas-profiling) (0.16.0)\n",
      "Requirement already satisfied: pywin32>=1.0; sys_platform == \"win32\" in c:\\users\\grays\\anaconda3\\lib\\site-packages (from jupyter-core->nbformat>=4.2.0->ipywidgets>=7.5.1->pandas-profiling) (227)\n",
      "Requirement already satisfied: entrypoints>=0.2.2 in c:\\users\\grays\\anaconda3\\lib\\site-packages (from nbconvert->notebook>=4.4.1->widgetsnbextension~=3.5.0->ipywidgets>=7.5.1->pandas-profiling) (0.3)\n",
      "Requirement already satisfied: mistune<2,>=0.8.1 in c:\\users\\grays\\anaconda3\\lib\\site-packages (from nbconvert->notebook>=4.4.1->widgetsnbextension~=3.5.0->ipywidgets>=7.5.1->pandas-profiling) (0.8.4)\n",
      "Requirement already satisfied: testpath in c:\\users\\grays\\anaconda3\\lib\\site-packages (from nbconvert->notebook>=4.4.1->widgetsnbextension~=3.5.0->ipywidgets>=7.5.1->pandas-profiling) (0.4.4)\n",
      "Requirement already satisfied: defusedxml in c:\\users\\grays\\anaconda3\\lib\\site-packages (from nbconvert->notebook>=4.4.1->widgetsnbextension~=3.5.0->ipywidgets>=7.5.1->pandas-profiling) (0.6.0)\n",
      "Requirement already satisfied: pandocfilters>=1.4.1 in c:\\users\\grays\\anaconda3\\lib\\site-packages (from nbconvert->notebook>=4.4.1->widgetsnbextension~=3.5.0->ipywidgets>=7.5.1->pandas-profiling) (1.4.2)\n",
      "Requirement already satisfied: bleach in c:\\users\\grays\\anaconda3\\lib\\site-packages (from nbconvert->notebook>=4.4.1->widgetsnbextension~=3.5.0->ipywidgets>=7.5.1->pandas-profiling) (3.1.5)\n",
      "Requirement already satisfied: zipp>=0.5 in c:\\users\\grays\\anaconda3\\lib\\site-packages (from importlib-metadata; python_version < \"3.8\"->jsonschema!=2.5.0,>=2.4->nbformat>=4.2.0->ipywidgets>=7.5.1->pandas-profiling) (3.1.0)\n",
      "Requirement already satisfied: packaging in c:\\users\\grays\\anaconda3\\lib\\site-packages (from bleach->nbconvert->notebook>=4.4.1->widgetsnbextension~=3.5.0->ipywidgets>=7.5.1->pandas-profiling) (20.4)\n",
      "Requirement already satisfied: webencodings in c:\\users\\grays\\anaconda3\\lib\\site-packages (from bleach->nbconvert->notebook>=4.4.1->widgetsnbextension~=3.5.0->ipywidgets>=7.5.1->pandas-profiling) (0.5.1)\n",
      "Note: you may need to restart the kernel to use updated packages.\n"
     ]
    }
   ],
   "source": [
    "pip install pandas-profiling"
   ]
  },
  {
   "cell_type": "code",
   "execution_count": 2,
   "metadata": {},
   "outputs": [],
   "source": [
    "# Import libraries\n",
    "import pandas as pd\n",
    "import pandas_profiling as pp\n",
    "import matplotlib.pyplot as plt\n",
    "import numpy as np\n",
    "import sys\n",
    "import matplotlib\n",
    "\n",
    "%matplotlib inline"
   ]
  },
  {
   "cell_type": "code",
   "execution_count": 3,
   "metadata": {},
   "outputs": [
    {
     "data": {
      "text/plain": [
       "['.ipynb_checkpoints',\n",
       " '09212020-page8.pdf',\n",
       " '6211',\n",
       " 'Answers',\n",
       " 'basics.py',\n",
       " 'DataManipulation-InsurancePortfolio.ipynb',\n",
       " 'desktop.ini',\n",
       " 'Discord.lnk',\n",
       " 'example_portfolio.csv',\n",
       " 'example_portfolio_report',\n",
       " 'example_portfolio_report.html',\n",
       " 'IMVU.lnk',\n",
       " 'mbox-short.txt',\n",
       " 'Python62100',\n",
       " 'RyanCarriere_Helloworld.py',\n",
       " 'summary.csv',\n",
       " 'untitled',\n",
       " 'Untitled.ipynb',\n",
       " 'untitled.txt',\n",
       " 'untitled1',\n",
       " 'Untitled1.ipynb',\n",
       " 'Visual Studio Code.lnk']"
      ]
     },
     "execution_count": 3,
     "metadata": {},
     "output_type": "execute_result"
    }
   ],
   "source": [
    "import os\n",
    "%matplotlib inline\n",
    "os.listdir(os.getcwd())"
   ]
  },
  {
   "cell_type": "code",
   "execution_count": 4,
   "metadata": {},
   "outputs": [
    {
     "data": {
      "text/html": [
       "<div>\n",
       "<style scoped>\n",
       "    .dataframe tbody tr th:only-of-type {\n",
       "        vertical-align: middle;\n",
       "    }\n",
       "\n",
       "    .dataframe tbody tr th {\n",
       "        vertical-align: top;\n",
       "    }\n",
       "\n",
       "    .dataframe thead th {\n",
       "        text-align: right;\n",
       "    }\n",
       "</style>\n",
       "<table border=\"1\" class=\"dataframe\">\n",
       "  <thead>\n",
       "    <tr style=\"text-align: right;\">\n",
       "      <th></th>\n",
       "      <th>Policy_Company</th>\n",
       "      <th>Policy_Installment_Term</th>\n",
       "      <th>Policy_Billing_Code</th>\n",
       "      <th>Policy_Method_Of_Payment</th>\n",
       "      <th>Policy_Reinstatement_Fee_Indicator</th>\n",
       "      <th>Policy_Zip_Code_Garaging_Location</th>\n",
       "      <th>Vehicle_Territory</th>\n",
       "      <th>Vehicle_Make_Year</th>\n",
       "      <th>Vehicle_Make_Description</th>\n",
       "      <th>Vehicle_Performance</th>\n",
       "      <th>...</th>\n",
       "      <th>EEA_Prior_Bodily_Injury_Limit</th>\n",
       "      <th>EEA_PolicyYear</th>\n",
       "      <th>SYS_Renewed</th>\n",
       "      <th>SYS_New_Business</th>\n",
       "      <th>Annual_Premium</th>\n",
       "      <th>Claim_Count</th>\n",
       "      <th>Loss_Amount</th>\n",
       "      <th>Frequency</th>\n",
       "      <th>Severity</th>\n",
       "      <th>Loss_Ratio</th>\n",
       "    </tr>\n",
       "    <tr>\n",
       "      <th>PolicyNo</th>\n",
       "      <th></th>\n",
       "      <th></th>\n",
       "      <th></th>\n",
       "      <th></th>\n",
       "      <th></th>\n",
       "      <th></th>\n",
       "      <th></th>\n",
       "      <th></th>\n",
       "      <th></th>\n",
       "      <th></th>\n",
       "      <th></th>\n",
       "      <th></th>\n",
       "      <th></th>\n",
       "      <th></th>\n",
       "      <th></th>\n",
       "      <th></th>\n",
       "      <th></th>\n",
       "      <th></th>\n",
       "      <th></th>\n",
       "      <th></th>\n",
       "      <th></th>\n",
       "    </tr>\n",
       "  </thead>\n",
       "  <tbody>\n",
       "    <tr>\n",
       "      <th>164562033</th>\n",
       "      <td>Standard</td>\n",
       "      <td>6</td>\n",
       "      <td>Direct Billed to Insured</td>\n",
       "      <td>Pre-paid</td>\n",
       "      <td>N</td>\n",
       "      <td>42602</td>\n",
       "      <td>31</td>\n",
       "      <td>1990</td>\n",
       "      <td>DODG CARAVAN SE</td>\n",
       "      <td>Standard</td>\n",
       "      <td>...</td>\n",
       "      <td>20-50</td>\n",
       "      <td>2006</td>\n",
       "      <td>Y</td>\n",
       "      <td>N</td>\n",
       "      <td>111.30</td>\n",
       "      <td>0</td>\n",
       "      <td>0.0</td>\n",
       "      <td>0.0</td>\n",
       "      <td>0.0</td>\n",
       "      <td>0.0</td>\n",
       "    </tr>\n",
       "    <tr>\n",
       "      <th>165119133</th>\n",
       "      <td>Standard</td>\n",
       "      <td>6</td>\n",
       "      <td>Direct Billed to Insured</td>\n",
       "      <td>Pre-paid</td>\n",
       "      <td>N</td>\n",
       "      <td>42857</td>\n",
       "      <td>35</td>\n",
       "      <td>2001</td>\n",
       "      <td>BUIK REG LS-LSE</td>\n",
       "      <td>Standard</td>\n",
       "      <td>...</td>\n",
       "      <td>20-50</td>\n",
       "      <td>2006</td>\n",
       "      <td>Y</td>\n",
       "      <td>N</td>\n",
       "      <td>408.10</td>\n",
       "      <td>0</td>\n",
       "      <td>0.0</td>\n",
       "      <td>0.0</td>\n",
       "      <td>0.0</td>\n",
       "      <td>0.0</td>\n",
       "    </tr>\n",
       "    <tr>\n",
       "      <th>165166239</th>\n",
       "      <td>Standard</td>\n",
       "      <td>6</td>\n",
       "      <td>Direct Billed to Insured</td>\n",
       "      <td>Pre-paid</td>\n",
       "      <td>N</td>\n",
       "      <td>42980</td>\n",
       "      <td>30</td>\n",
       "      <td>1977</td>\n",
       "      <td>FORD       TRUCK</td>\n",
       "      <td>Standard</td>\n",
       "      <td>...</td>\n",
       "      <td>100-400</td>\n",
       "      <td>2006</td>\n",
       "      <td>Y</td>\n",
       "      <td>N</td>\n",
       "      <td>125.08</td>\n",
       "      <td>0</td>\n",
       "      <td>0.0</td>\n",
       "      <td>0.0</td>\n",
       "      <td>0.0</td>\n",
       "      <td>0.0</td>\n",
       "    </tr>\n",
       "    <tr>\n",
       "      <th>165198832</th>\n",
       "      <td>Standard</td>\n",
       "      <td>6</td>\n",
       "      <td>Direct Billed to Insured</td>\n",
       "      <td>Installment</td>\n",
       "      <td>N</td>\n",
       "      <td>43050</td>\n",
       "      <td>35</td>\n",
       "      <td>2002</td>\n",
       "      <td>TYTA TUNDRA SR5</td>\n",
       "      <td>Standard</td>\n",
       "      <td>...</td>\n",
       "      <td>100-200</td>\n",
       "      <td>2006</td>\n",
       "      <td>Y</td>\n",
       "      <td>N</td>\n",
       "      <td>554.38</td>\n",
       "      <td>0</td>\n",
       "      <td>0.0</td>\n",
       "      <td>0.0</td>\n",
       "      <td>0.0</td>\n",
       "      <td>0.0</td>\n",
       "    </tr>\n",
       "    <tr>\n",
       "      <th>165319534</th>\n",
       "      <td>Standard</td>\n",
       "      <td>6</td>\n",
       "      <td>Direct Billed to Insured</td>\n",
       "      <td>Pre-paid</td>\n",
       "      <td>N</td>\n",
       "      <td>42496</td>\n",
       "      <td>35</td>\n",
       "      <td>1992</td>\n",
       "      <td>CHEV CAMARO RS</td>\n",
       "      <td>Sports</td>\n",
       "      <td>...</td>\n",
       "      <td>20-50</td>\n",
       "      <td>2006</td>\n",
       "      <td>Y</td>\n",
       "      <td>N</td>\n",
       "      <td>129.32</td>\n",
       "      <td>0</td>\n",
       "      <td>0.0</td>\n",
       "      <td>0.0</td>\n",
       "      <td>0.0</td>\n",
       "      <td>0.0</td>\n",
       "    </tr>\n",
       "    <tr>\n",
       "      <th>165355034</th>\n",
       "      <td>Standard</td>\n",
       "      <td>6</td>\n",
       "      <td>Direct Billed to Insured</td>\n",
       "      <td>Installment</td>\n",
       "      <td>N</td>\n",
       "      <td>42361</td>\n",
       "      <td>30</td>\n",
       "      <td>1992</td>\n",
       "      <td>FORD RANGER</td>\n",
       "      <td>Standard</td>\n",
       "      <td>...</td>\n",
       "      <td>20-50</td>\n",
       "      <td>2006</td>\n",
       "      <td>Y</td>\n",
       "      <td>N</td>\n",
       "      <td>279.84</td>\n",
       "      <td>0</td>\n",
       "      <td>0.0</td>\n",
       "      <td>0.0</td>\n",
       "      <td>0.0</td>\n",
       "      <td>0.0</td>\n",
       "    </tr>\n",
       "    <tr>\n",
       "      <th>165386232</th>\n",
       "      <td>Standard</td>\n",
       "      <td>6</td>\n",
       "      <td>Direct Billed to Insured</td>\n",
       "      <td>Pre-paid</td>\n",
       "      <td>N</td>\n",
       "      <td>42357</td>\n",
       "      <td>37</td>\n",
       "      <td>1955</td>\n",
       "      <td>CHEV BELAIR 2DR</td>\n",
       "      <td>Standard</td>\n",
       "      <td>...</td>\n",
       "      <td>40-100</td>\n",
       "      <td>2006</td>\n",
       "      <td>N</td>\n",
       "      <td>N</td>\n",
       "      <td>142.04</td>\n",
       "      <td>0</td>\n",
       "      <td>0.0</td>\n",
       "      <td>0.0</td>\n",
       "      <td>0.0</td>\n",
       "      <td>0.0</td>\n",
       "    </tr>\n",
       "  </tbody>\n",
       "</table>\n",
       "<p>7 rows × 68 columns</p>\n",
       "</div>"
      ],
      "text/plain": [
       "          Policy_Company  Policy_Installment_Term       Policy_Billing_Code  \\\n",
       "PolicyNo                                                                      \n",
       "164562033      Standard                         6  Direct Billed to Insured   \n",
       "165119133      Standard                         6  Direct Billed to Insured   \n",
       "165166239      Standard                         6  Direct Billed to Insured   \n",
       "165198832      Standard                         6  Direct Billed to Insured   \n",
       "165319534      Standard                         6  Direct Billed to Insured   \n",
       "165355034      Standard                         6  Direct Billed to Insured   \n",
       "165386232      Standard                         6  Direct Billed to Insured   \n",
       "\n",
       "          Policy_Method_Of_Payment Policy_Reinstatement_Fee_Indicator  \\\n",
       "PolicyNo                                                                \n",
       "164562033                 Pre-paid                                  N   \n",
       "165119133                 Pre-paid                                  N   \n",
       "165166239                 Pre-paid                                  N   \n",
       "165198832              Installment                                  N   \n",
       "165319534                 Pre-paid                                  N   \n",
       "165355034              Installment                                  N   \n",
       "165386232                 Pre-paid                                  N   \n",
       "\n",
       "          Policy_Zip_Code_Garaging_Location  Vehicle_Territory  \\\n",
       "PolicyNo                                                         \n",
       "164562033                             42602                 31   \n",
       "165119133                             42857                 35   \n",
       "165166239                             42980                 30   \n",
       "165198832                             43050                 35   \n",
       "165319534                             42496                 35   \n",
       "165355034                             42361                 30   \n",
       "165386232                             42357                 37   \n",
       "\n",
       "           Vehicle_Make_Year Vehicle_Make_Description Vehicle_Performance  \\\n",
       "PolicyNo                                                                    \n",
       "164562033               1990        DODG CARAVAN SE              Standard   \n",
       "165119133               2001        BUIK REG LS-LSE              Standard   \n",
       "165166239               1977        FORD       TRUCK             Standard   \n",
       "165198832               2002        TYTA TUNDRA SR5              Standard   \n",
       "165319534               1992        CHEV CAMARO RS                 Sports   \n",
       "165355034               1992        FORD RANGER                  Standard   \n",
       "165386232               1955        CHEV BELAIR 2DR              Standard   \n",
       "\n",
       "           ...  EEA_Prior_Bodily_Injury_Limit  EEA_PolicyYear  SYS_Renewed  \\\n",
       "PolicyNo   ...                                                               \n",
       "164562033  ...                          20-50            2006            Y   \n",
       "165119133  ...                          20-50            2006            Y   \n",
       "165166239  ...                        100-400            2006            Y   \n",
       "165198832  ...                        100-200            2006            Y   \n",
       "165319534  ...                          20-50            2006            Y   \n",
       "165355034  ...                          20-50            2006            Y   \n",
       "165386232  ...                        40-100             2006            N   \n",
       "\n",
       "          SYS_New_Business  Annual_Premium  Claim_Count Loss_Amount Frequency  \\\n",
       "PolicyNo                                                                        \n",
       "164562033                N          111.30            0         0.0       0.0   \n",
       "165119133                N          408.10            0         0.0       0.0   \n",
       "165166239                N          125.08            0         0.0       0.0   \n",
       "165198832                N          554.38            0         0.0       0.0   \n",
       "165319534                N          129.32            0         0.0       0.0   \n",
       "165355034                N          279.84            0         0.0       0.0   \n",
       "165386232                N          142.04            0         0.0       0.0   \n",
       "\n",
       "          Severity  Loss_Ratio  \n",
       "PolicyNo                        \n",
       "164562033      0.0         0.0  \n",
       "165119133      0.0         0.0  \n",
       "165166239      0.0         0.0  \n",
       "165198832      0.0         0.0  \n",
       "165319534      0.0         0.0  \n",
       "165355034      0.0         0.0  \n",
       "165386232      0.0         0.0  \n",
       "\n",
       "[7 rows x 68 columns]"
      ]
     },
     "execution_count": 4,
     "metadata": {},
     "output_type": "execute_result"
    }
   ],
   "source": [
    "df = pd.read_csv('example_portfolio.csv', index_col = 'PolicyNo') \n",
    "#Q2: Read 1st 7 rows of dataframe\n",
    "df[0:7]"
   ]
  },
  {
   "cell_type": "code",
   "execution_count": 5,
   "metadata": {
    "scrolled": true
   },
   "outputs": [
    {
     "name": "stdout",
     "output_type": "stream",
     "text": [
      "<class 'pandas.core.frame.DataFrame'>\n",
      "Int64Index: 4964 entries, 164562033 to 381258900\n",
      "Data columns (total 68 columns):\n",
      " #   Column                                    Non-Null Count  Dtype  \n",
      "---  ------                                    --------------  -----  \n",
      " 0   Policy_Company                            4964 non-null   object \n",
      " 1   Policy_Installment_Term                   4964 non-null   int64  \n",
      " 2   Policy_Billing_Code                       4964 non-null   object \n",
      " 3   Policy_Method_Of_Payment                  4964 non-null   object \n",
      " 4   Policy_Reinstatement_Fee_Indicator        4964 non-null   object \n",
      " 5   Policy_Zip_Code_Garaging_Location         4964 non-null   object \n",
      " 6   Vehicle_Territory                         4964 non-null   int64  \n",
      " 7   Vehicle_Make_Year                         4964 non-null   int64  \n",
      " 8   Vehicle_Make_Description                  4964 non-null   object \n",
      " 9   Vehicle_Performance                       4964 non-null   object \n",
      " 10  Vehicle_New_Cost_Amount                   4964 non-null   int64  \n",
      " 11  Vehicle_Symbol                            4964 non-null   int64  \n",
      " 12  Vehicle_Number_Of_Drivers_Assigned        4964 non-null   int64  \n",
      " 13  Vehicle_Usage                             4964 non-null   object \n",
      " 14  Vehicle_Miles_To_Work                     4964 non-null   int64  \n",
      " 15  Vehicle_Days_Per_Week_Driven              4964 non-null   int64  \n",
      " 16  Vehicle_Annual_Miles                      4964 non-null   object \n",
      " 17  Vehicle_Anti_Theft_Device                 4964 non-null   object \n",
      " 18  Vehicle_Passive_Restraint                 4964 non-null   object \n",
      " 19  Vehicle_Age_In_Years                      4964 non-null   int64  \n",
      " 20  Vehicle_Med_Pay_Limit                     4964 non-null   int64  \n",
      " 21  Vehicle_Bodily_Injury_Limit               4770 non-null   object \n",
      " 22  Vehicle_Physical_Damage_Limit             4964 non-null   int64  \n",
      " 23  Vehicle_Comprehensive_Coverage_Indicator  4964 non-null   object \n",
      " 24  Vehicle_Comprehensive_Coverage_Limit      4964 non-null   int64  \n",
      " 25  Vehicle_Collision_Coverage_Indicator      4964 non-null   object \n",
      " 26  Vehicle_Collision_Coverage_Deductible     4964 non-null   int64  \n",
      " 27  Driver_Total                              4964 non-null   int64  \n",
      " 28  Driver_Total_Male                         4964 non-null   int64  \n",
      " 29  Driver_Total_Female                       4964 non-null   int64  \n",
      " 30  Driver_Total_Single                       4964 non-null   int64  \n",
      " 31  Driver_Total_Married                      4964 non-null   int64  \n",
      " 32  Driver_Total_Related_To_Insured_Self      4964 non-null   int64  \n",
      " 33  Driver_Total_Related_To_Insured_Spouse    4964 non-null   int64  \n",
      " 34  Driver_Total_Related_To_Insured_Child     4964 non-null   int64  \n",
      " 35  Driver_Total_Licensed_In_State            4964 non-null   int64  \n",
      " 36  Driver_Minimum_Age                        4964 non-null   int64  \n",
      " 37  Driver_Maximum_Age                        4964 non-null   int64  \n",
      " 38  Driver_Total_Teenager_Age_15_19           4964 non-null   int64  \n",
      " 39  Driver_Total_College_Ages_20_23           4964 non-null   int64  \n",
      " 40  Driver_Total_Young_Adult_Ages_24_29       4964 non-null   int64  \n",
      " 41  Driver_Total_Low_Middle_Adult_Ages_30_39  4964 non-null   int64  \n",
      " 42  Driver_Total_Middle_Adult_Ages_40_49      4964 non-null   int64  \n",
      " 43  Driver_Total_Adult_Ages_50_64             4964 non-null   int64  \n",
      " 44  Driver_Total_Senior_Ages_65_69            4964 non-null   int64  \n",
      " 45  Driver_Total_Upper_Senior_Ages_70_plus    4964 non-null   int64  \n",
      " 46  Vehicle_Youthful_Driver_Indicator         4964 non-null   object \n",
      " 47  Vehicle_Youthful_Driver_Training_Code     4964 non-null   object \n",
      " 48  Vehicle_Youthful_Good_Student_Code        4964 non-null   object \n",
      " 49  Vehicle_Driver_Points                     4964 non-null   int64  \n",
      " 50  Vehicle_Safe_Driver_Discount_Indicator    4964 non-null   object \n",
      " 51  EEA_Liability_Coverage_Only_Indicator     4964 non-null   object \n",
      " 52  EEA_Multi_Auto_Policies_Indicator         4964 non-null   object \n",
      " 53  EEA_Policy_Zip_Code_3                     4964 non-null   object \n",
      " 54  EEA_Policy_Tenure                         4964 non-null   float64\n",
      " 55  EEA_Agency_Type                           4964 non-null   object \n",
      " 56  EEA_Packaged_Policy_Indicator             4964 non-null   object \n",
      " 57  EEA_Full_Coverage_Indicator               4964 non-null   object \n",
      " 58  EEA_Prior_Bodily_Injury_Limit             4770 non-null   object \n",
      " 59  EEA_PolicyYear                            4964 non-null   int64  \n",
      " 60  SYS_Renewed                               4964 non-null   object \n",
      " 61  SYS_New_Business                          4964 non-null   object \n",
      " 62  Annual_Premium                            4964 non-null   float64\n",
      " 63  Claim_Count                               4964 non-null   int64  \n",
      " 64  Loss_Amount                               4964 non-null   float64\n",
      " 65  Frequency                                 4964 non-null   float64\n",
      " 66  Severity                                  4964 non-null   float64\n",
      " 67  Loss_Ratio                                4964 non-null   float64\n",
      "dtypes: float64(6), int64(35), object(27)\n",
      "memory usage: 2.6+ MB\n"
     ]
    }
   ],
   "source": [
    "#Q3\n",
    "df.info()"
   ]
  },
  {
   "cell_type": "code",
   "execution_count": 6,
   "metadata": {},
   "outputs": [
    {
     "data": {
      "text/plain": [
       "4964"
      ]
     },
     "execution_count": 6,
     "metadata": {},
     "output_type": "execute_result"
    }
   ],
   "source": [
    "len(df)"
   ]
  },
  {
   "cell_type": "code",
   "execution_count": 7,
   "metadata": {},
   "outputs": [
    {
     "name": "stdout",
     "output_type": "stream",
     "text": [
      "(4964, 68)\n"
     ]
    }
   ],
   "source": [
    "print(df.shape)"
   ]
  },
  {
   "cell_type": "code",
   "execution_count": 8,
   "metadata": {},
   "outputs": [
    {
     "data": {
      "text/html": [
       "<div>\n",
       "<style scoped>\n",
       "    .dataframe tbody tr th:only-of-type {\n",
       "        vertical-align: middle;\n",
       "    }\n",
       "\n",
       "    .dataframe tbody tr th {\n",
       "        vertical-align: top;\n",
       "    }\n",
       "\n",
       "    .dataframe thead th {\n",
       "        text-align: right;\n",
       "    }\n",
       "</style>\n",
       "<table border=\"1\" class=\"dataframe\">\n",
       "  <thead>\n",
       "    <tr style=\"text-align: right;\">\n",
       "      <th></th>\n",
       "      <th>Vehicle_Anti_Theft_Device</th>\n",
       "      <th>Driver_Minimum_Age</th>\n",
       "      <th>Vehicle_Age_In_Years</th>\n",
       "      <th>Annual_Premium</th>\n",
       "      <th>Loss_Amount</th>\n",
       "    </tr>\n",
       "    <tr>\n",
       "      <th>PolicyNo</th>\n",
       "      <th></th>\n",
       "      <th></th>\n",
       "      <th></th>\n",
       "      <th></th>\n",
       "      <th></th>\n",
       "    </tr>\n",
       "  </thead>\n",
       "  <tbody>\n",
       "    <tr>\n",
       "      <th>164562033</th>\n",
       "      <td>Not Applicable</td>\n",
       "      <td>61</td>\n",
       "      <td>9</td>\n",
       "      <td>111.30</td>\n",
       "      <td>0.0</td>\n",
       "    </tr>\n",
       "    <tr>\n",
       "      <th>165119133</th>\n",
       "      <td>Not Applicable</td>\n",
       "      <td>55</td>\n",
       "      <td>6</td>\n",
       "      <td>408.10</td>\n",
       "      <td>0.0</td>\n",
       "    </tr>\n",
       "    <tr>\n",
       "      <th>165166239</th>\n",
       "      <td>Not Applicable</td>\n",
       "      <td>47</td>\n",
       "      <td>9</td>\n",
       "      <td>125.08</td>\n",
       "      <td>0.0</td>\n",
       "    </tr>\n",
       "    <tr>\n",
       "      <th>165198832</th>\n",
       "      <td>Not Applicable</td>\n",
       "      <td>37</td>\n",
       "      <td>5</td>\n",
       "      <td>554.38</td>\n",
       "      <td>0.0</td>\n",
       "    </tr>\n",
       "    <tr>\n",
       "      <th>165319534</th>\n",
       "      <td>Not Applicable</td>\n",
       "      <td>48</td>\n",
       "      <td>9</td>\n",
       "      <td>129.32</td>\n",
       "      <td>0.0</td>\n",
       "    </tr>\n",
       "    <tr>\n",
       "      <th>...</th>\n",
       "      <td>...</td>\n",
       "      <td>...</td>\n",
       "      <td>...</td>\n",
       "      <td>...</td>\n",
       "      <td>...</td>\n",
       "    </tr>\n",
       "    <tr>\n",
       "      <th>381137600</th>\n",
       "      <td>Passive Disabling-Vehicle Recovery</td>\n",
       "      <td>66</td>\n",
       "      <td>7</td>\n",
       "      <td>140.98</td>\n",
       "      <td>0.0</td>\n",
       "    </tr>\n",
       "    <tr>\n",
       "      <th>381140200</th>\n",
       "      <td>Passive Disabling-Vehicle Recovery</td>\n",
       "      <td>24</td>\n",
       "      <td>1</td>\n",
       "      <td>594.66</td>\n",
       "      <td>0.0</td>\n",
       "    </tr>\n",
       "    <tr>\n",
       "      <th>381148600</th>\n",
       "      <td>Not Applicable</td>\n",
       "      <td>46</td>\n",
       "      <td>9</td>\n",
       "      <td>197.22</td>\n",
       "      <td>0.0</td>\n",
       "    </tr>\n",
       "    <tr>\n",
       "      <th>381184700</th>\n",
       "      <td>Not Applicable</td>\n",
       "      <td>49</td>\n",
       "      <td>9</td>\n",
       "      <td>358.24</td>\n",
       "      <td>0.0</td>\n",
       "    </tr>\n",
       "    <tr>\n",
       "      <th>381258900</th>\n",
       "      <td>Not Applicable</td>\n",
       "      <td>35</td>\n",
       "      <td>9</td>\n",
       "      <td>484.42</td>\n",
       "      <td>0.0</td>\n",
       "    </tr>\n",
       "  </tbody>\n",
       "</table>\n",
       "<p>4964 rows × 5 columns</p>\n",
       "</div>"
      ],
      "text/plain": [
       "                    Vehicle_Anti_Theft_Device  Driver_Minimum_Age  \\\n",
       "PolicyNo                                                            \n",
       "164562033                      Not Applicable                  61   \n",
       "165119133                      Not Applicable                  55   \n",
       "165166239                      Not Applicable                  47   \n",
       "165198832                      Not Applicable                  37   \n",
       "165319534                      Not Applicable                  48   \n",
       "...                                       ...                 ...   \n",
       "381137600  Passive Disabling-Vehicle Recovery                  66   \n",
       "381140200  Passive Disabling-Vehicle Recovery                  24   \n",
       "381148600                      Not Applicable                  46   \n",
       "381184700                      Not Applicable                  49   \n",
       "381258900                      Not Applicable                  35   \n",
       "\n",
       "           Vehicle_Age_In_Years  Annual_Premium  Loss_Amount  \n",
       "PolicyNo                                                      \n",
       "164562033                     9          111.30          0.0  \n",
       "165119133                     6          408.10          0.0  \n",
       "165166239                     9          125.08          0.0  \n",
       "165198832                     5          554.38          0.0  \n",
       "165319534                     9          129.32          0.0  \n",
       "...                         ...             ...          ...  \n",
       "381137600                     7          140.98          0.0  \n",
       "381140200                     1          594.66          0.0  \n",
       "381148600                     9          197.22          0.0  \n",
       "381184700                     9          358.24          0.0  \n",
       "381258900                     9          484.42          0.0  \n",
       "\n",
       "[4964 rows x 5 columns]"
      ]
     },
     "execution_count": 8,
     "metadata": {},
     "output_type": "execute_result"
    }
   ],
   "source": [
    "#Q4\n",
    "#Creating df2\n",
    "#given by TA\n",
    "columns = ['Vehicle_Anti_Theft_Device', 'Driver_Minimum_Age', 'Vehicle_Age_In_Years',\n",
    "           'Annual_Premium', 'Loss_Amount']\n",
    "df2 = df[columns]\n",
    "df2"
   ]
  },
  {
   "cell_type": "code",
   "execution_count": 9,
   "metadata": {},
   "outputs": [
    {
     "name": "stdout",
     "output_type": "stream",
     "text": [
      "Means:\n",
      " Driver_Minimum_Age       46.088437\n",
      "Vehicle_Age_In_Years      7.067284\n",
      "Annual_Premium          336.519879\n",
      "Loss_Amount             280.861543\n",
      "dtype: float64\n",
      "Standard Deviation:\n",
      " Driver_Minimum_Age        15.818078\n",
      "Vehicle_Age_In_Years       2.577883\n",
      "Annual_Premium           211.493071\n",
      "Loss_Amount             4760.610938\n",
      "dtype: float64\n",
      "Mins:\n",
      " Vehicle_Anti_Theft_Device    Active Disabling\n",
      "Driver_Minimum_Age                         16\n",
      "Vehicle_Age_In_Years                        1\n",
      "Annual_Premium                            0.6\n",
      "Loss_Amount                                 0\n",
      "dtype: object\n",
      "Maxs:\n",
      " Vehicle_Anti_Theft_Device    Passive Disabling-Vehicle Recovery\n",
      "Driver_Minimum_Age                                           93\n",
      "Vehicle_Age_In_Years                                          9\n",
      "Annual_Premium                                          2336.24\n",
      "Loss_Amount                                              297025\n",
      "dtype: object\n"
     ]
    },
    {
     "data": {
      "text/html": [
       "<div>\n",
       "<style scoped>\n",
       "    .dataframe tbody tr th:only-of-type {\n",
       "        vertical-align: middle;\n",
       "    }\n",
       "\n",
       "    .dataframe tbody tr th {\n",
       "        vertical-align: top;\n",
       "    }\n",
       "\n",
       "    .dataframe thead th {\n",
       "        text-align: right;\n",
       "    }\n",
       "</style>\n",
       "<table border=\"1\" class=\"dataframe\">\n",
       "  <thead>\n",
       "    <tr style=\"text-align: right;\">\n",
       "      <th></th>\n",
       "      <th>Driver_Minimum_Age</th>\n",
       "      <th>Vehicle_Age_In_Years</th>\n",
       "      <th>Annual_Premium</th>\n",
       "      <th>Loss_Amount</th>\n",
       "    </tr>\n",
       "  </thead>\n",
       "  <tbody>\n",
       "    <tr>\n",
       "      <th>count</th>\n",
       "      <td>4964.000000</td>\n",
       "      <td>4964.000000</td>\n",
       "      <td>4964.000000</td>\n",
       "      <td>4964.000000</td>\n",
       "    </tr>\n",
       "    <tr>\n",
       "      <th>mean</th>\n",
       "      <td>46.088437</td>\n",
       "      <td>7.067284</td>\n",
       "      <td>336.519879</td>\n",
       "      <td>280.861543</td>\n",
       "    </tr>\n",
       "    <tr>\n",
       "      <th>std</th>\n",
       "      <td>15.818078</td>\n",
       "      <td>2.577883</td>\n",
       "      <td>211.493071</td>\n",
       "      <td>4760.610938</td>\n",
       "    </tr>\n",
       "    <tr>\n",
       "      <th>min</th>\n",
       "      <td>16.000000</td>\n",
       "      <td>1.000000</td>\n",
       "      <td>0.600000</td>\n",
       "      <td>0.000000</td>\n",
       "    </tr>\n",
       "    <tr>\n",
       "      <th>25%</th>\n",
       "      <td>35.000000</td>\n",
       "      <td>5.000000</td>\n",
       "      <td>160.060000</td>\n",
       "      <td>0.000000</td>\n",
       "    </tr>\n",
       "    <tr>\n",
       "      <th>50%</th>\n",
       "      <td>46.000000</td>\n",
       "      <td>9.000000</td>\n",
       "      <td>328.600000</td>\n",
       "      <td>0.000000</td>\n",
       "    </tr>\n",
       "    <tr>\n",
       "      <th>75%</th>\n",
       "      <td>57.000000</td>\n",
       "      <td>9.000000</td>\n",
       "      <td>444.140000</td>\n",
       "      <td>0.000000</td>\n",
       "    </tr>\n",
       "    <tr>\n",
       "      <th>max</th>\n",
       "      <td>93.000000</td>\n",
       "      <td>9.000000</td>\n",
       "      <td>2336.240000</td>\n",
       "      <td>297025.000000</td>\n",
       "    </tr>\n",
       "  </tbody>\n",
       "</table>\n",
       "</div>"
      ],
      "text/plain": [
       "       Driver_Minimum_Age  Vehicle_Age_In_Years  Annual_Premium    Loss_Amount\n",
       "count         4964.000000           4964.000000     4964.000000    4964.000000\n",
       "mean            46.088437              7.067284      336.519879     280.861543\n",
       "std             15.818078              2.577883      211.493071    4760.610938\n",
       "min             16.000000              1.000000        0.600000       0.000000\n",
       "25%             35.000000              5.000000      160.060000       0.000000\n",
       "50%             46.000000              9.000000      328.600000       0.000000\n",
       "75%             57.000000              9.000000      444.140000       0.000000\n",
       "max             93.000000              9.000000     2336.240000  297025.000000"
      ]
     },
     "execution_count": 9,
     "metadata": {},
     "output_type": "execute_result"
    }
   ],
   "source": [
    "#Q5\n",
    "mean = df2.mean()\n",
    "print(\"Means:\\n\",mean)\n",
    "std = df2.std()\n",
    "print(\"Standard Deviation:\\n\",std)\n",
    "minimum = df2.min()\n",
    "print(\"Mins:\\n\",minimum)\n",
    "maximum = df2.max()\n",
    "print(\"Maxs:\\n\",maximum)\n",
    "df2.describe()"
   ]
  },
  {
   "cell_type": "code",
   "execution_count": 10,
   "metadata": {},
   "outputs": [
    {
     "name": "stdout",
     "output_type": "stream",
     "text": [
      "['Not Applicable' 'Passive Disabling-Vehicle Recovery' 'Alarm Only'\n",
      " 'Active Disabling']\n"
     ]
    }
   ],
   "source": [
    "#Q6\n",
    "print(df2['Vehicle_Anti_Theft_Device'].unique())"
   ]
  },
  {
   "cell_type": "code",
   "execution_count": 11,
   "metadata": {},
   "outputs": [
    {
     "name": "stdout",
     "output_type": "stream",
     "text": [
      "Premiums: 1670484.6800000002\n",
      "Losses: 1394196.7000000002\n",
      "Loss Ratio: 1.198170014317205\n"
     ]
    }
   ],
   "source": [
    "#Q7\n",
    "Premiums = df2[\"Annual_Premium\"].sum()\n",
    "print(\"Premiums:\", Premiums)\n",
    "Losses = df2[\"Loss_Amount\"].sum()\n",
    "print(\"Losses:\",Losses)\n",
    "LossRatio = Premiums/Losses\n",
    "print(\"Loss Ratio:\", LossRatio)"
   ]
  },
  {
   "cell_type": "code",
   "execution_count": 12,
   "metadata": {},
   "outputs": [
    {
     "data": {
      "text/plain": [
       "array([[<matplotlib.axes._subplots.AxesSubplot object at 0x000001B3C3460408>]],\n",
       "      dtype=object)"
      ]
     },
     "execution_count": 12,
     "metadata": {},
     "output_type": "execute_result"
    },
    {
     "data": {
      "image/png": "[encoded data removed]",
      "text/plain": [
       "<Figure size 432x288 with 1 Axes>"
      ]
     },
     "metadata": {
      "needs_background": "light"
     },
     "output_type": "display_data"
    }
   ],
   "source": [
    "#Q8\n",
    "df2.hist(column= \"Annual_Premium\")"
   ]
  },
  {
   "cell_type": "code",
   "execution_count": 13,
   "metadata": {},
   "outputs": [
    {
     "data": {
      "text/html": [
       "<div>\n",
       "<style scoped>\n",
       "    .dataframe tbody tr th:only-of-type {\n",
       "        vertical-align: middle;\n",
       "    }\n",
       "\n",
       "    .dataframe tbody tr th {\n",
       "        vertical-align: top;\n",
       "    }\n",
       "\n",
       "    .dataframe thead th {\n",
       "        text-align: right;\n",
       "    }\n",
       "</style>\n",
       "<table border=\"1\" class=\"dataframe\">\n",
       "  <thead>\n",
       "    <tr style=\"text-align: right;\">\n",
       "      <th></th>\n",
       "      <th>Driver_Minimum_Age</th>\n",
       "      <th>Vehicle_Age_In_Years</th>\n",
       "      <th>Annual_Premium</th>\n",
       "      <th>Loss_Amount</th>\n",
       "    </tr>\n",
       "    <tr>\n",
       "      <th>Vehicle_Anti_Theft_Device</th>\n",
       "      <th></th>\n",
       "      <th></th>\n",
       "      <th></th>\n",
       "      <th></th>\n",
       "    </tr>\n",
       "  </thead>\n",
       "  <tbody>\n",
       "    <tr>\n",
       "      <th>Active Disabling</th>\n",
       "      <td>47.183486</td>\n",
       "      <td>6.247706</td>\n",
       "      <td>424.710275</td>\n",
       "      <td>80.228807</td>\n",
       "    </tr>\n",
       "    <tr>\n",
       "      <th>Alarm Only</th>\n",
       "      <td>46.151282</td>\n",
       "      <td>5.987179</td>\n",
       "      <td>415.552846</td>\n",
       "      <td>305.996641</td>\n",
       "    </tr>\n",
       "    <tr>\n",
       "      <th>Not Applicable</th>\n",
       "      <td>47.352516</td>\n",
       "      <td>8.283253</td>\n",
       "      <td>263.447212</td>\n",
       "      <td>158.091151</td>\n",
       "    </tr>\n",
       "    <tr>\n",
       "      <th>Passive Disabling-Vehicle Recovery</th>\n",
       "      <td>43.649392</td>\n",
       "      <td>5.136276</td>\n",
       "      <td>446.322354</td>\n",
       "      <td>516.527543</td>\n",
       "    </tr>\n",
       "  </tbody>\n",
       "</table>\n",
       "</div>"
      ],
      "text/plain": [
       "                                    Driver_Minimum_Age  Vehicle_Age_In_Years  \\\n",
       "Vehicle_Anti_Theft_Device                                                      \n",
       "Active Disabling                             47.183486              6.247706   \n",
       "Alarm Only                                   46.151282              5.987179   \n",
       "Not Applicable                               47.352516              8.283253   \n",
       "Passive Disabling-Vehicle Recovery           43.649392              5.136276   \n",
       "\n",
       "                                    Annual_Premium  Loss_Amount  \n",
       "Vehicle_Anti_Theft_Device                                        \n",
       "Active Disabling                        424.710275    80.228807  \n",
       "Alarm Only                              415.552846   305.996641  \n",
       "Not Applicable                          263.447212   158.091151  \n",
       "Passive Disabling-Vehicle Recovery      446.322354   516.527543  "
      ]
     },
     "execution_count": 13,
     "metadata": {},
     "output_type": "execute_result"
    }
   ],
   "source": [
    "#Q9\n",
    "df3 = df2.groupby('Vehicle_Anti_Theft_Device').mean()\n",
    "df3"
   ]
  },
  {
   "cell_type": "code",
   "execution_count": 14,
   "metadata": {},
   "outputs": [
    {
     "data": {
      "text/plain": [
       "Index(['Active Disabling', 'Alarm Only', 'Not Applicable',\n",
       "       'Passive Disabling-Vehicle Recovery'],\n",
       "      dtype='object', name='Vehicle_Anti_Theft_Device')"
      ]
     },
     "execution_count": 14,
     "metadata": {},
     "output_type": "execute_result"
    }
   ],
   "source": [
    "#Q10\n",
    "df3.index"
   ]
  },
  {
   "cell_type": "code",
   "execution_count": 15,
   "metadata": {},
   "outputs": [
    {
     "data": {
      "text/html": [
       "<div>\n",
       "<style scoped>\n",
       "    .dataframe tbody tr th:only-of-type {\n",
       "        vertical-align: middle;\n",
       "    }\n",
       "\n",
       "    .dataframe tbody tr th {\n",
       "        vertical-align: top;\n",
       "    }\n",
       "\n",
       "    .dataframe thead th {\n",
       "        text-align: right;\n",
       "    }\n",
       "</style>\n",
       "<table border=\"1\" class=\"dataframe\">\n",
       "  <thead>\n",
       "    <tr style=\"text-align: right;\">\n",
       "      <th></th>\n",
       "      <th>Driver_Minimum_Age</th>\n",
       "      <th>Vehicle_Age_In_Years</th>\n",
       "      <th>Annual_Premium</th>\n",
       "      <th>Loss_Amount</th>\n",
       "      <th>Loss_Ratio</th>\n",
       "    </tr>\n",
       "    <tr>\n",
       "      <th>Vehicle_Anti_Theft_Device</th>\n",
       "      <th></th>\n",
       "      <th></th>\n",
       "      <th></th>\n",
       "      <th></th>\n",
       "      <th></th>\n",
       "    </tr>\n",
       "  </thead>\n",
       "  <tbody>\n",
       "    <tr>\n",
       "      <th>Active Disabling</th>\n",
       "      <td>47.183486</td>\n",
       "      <td>6.247706</td>\n",
       "      <td>424.710275</td>\n",
       "      <td>80.228807</td>\n",
       "      <td>0.188902</td>\n",
       "    </tr>\n",
       "    <tr>\n",
       "      <th>Alarm Only</th>\n",
       "      <td>46.151282</td>\n",
       "      <td>5.987179</td>\n",
       "      <td>415.552846</td>\n",
       "      <td>305.996641</td>\n",
       "      <td>0.736360</td>\n",
       "    </tr>\n",
       "    <tr>\n",
       "      <th>Not Applicable</th>\n",
       "      <td>47.352516</td>\n",
       "      <td>8.283253</td>\n",
       "      <td>263.447212</td>\n",
       "      <td>158.091151</td>\n",
       "      <td>0.600087</td>\n",
       "    </tr>\n",
       "    <tr>\n",
       "      <th>Passive Disabling-Vehicle Recovery</th>\n",
       "      <td>43.649392</td>\n",
       "      <td>5.136276</td>\n",
       "      <td>446.322354</td>\n",
       "      <td>516.527543</td>\n",
       "      <td>1.157297</td>\n",
       "    </tr>\n",
       "  </tbody>\n",
       "</table>\n",
       "</div>"
      ],
      "text/plain": [
       "                                    Driver_Minimum_Age  Vehicle_Age_In_Years  \\\n",
       "Vehicle_Anti_Theft_Device                                                      \n",
       "Active Disabling                             47.183486              6.247706   \n",
       "Alarm Only                                   46.151282              5.987179   \n",
       "Not Applicable                               47.352516              8.283253   \n",
       "Passive Disabling-Vehicle Recovery           43.649392              5.136276   \n",
       "\n",
       "                                    Annual_Premium  Loss_Amount  Loss_Ratio  \n",
       "Vehicle_Anti_Theft_Device                                                    \n",
       "Active Disabling                        424.710275    80.228807    0.188902  \n",
       "Alarm Only                              415.552846   305.996641    0.736360  \n",
       "Not Applicable                          263.447212   158.091151    0.600087  \n",
       "Passive Disabling-Vehicle Recovery      446.322354   516.527543    1.157297  "
      ]
     },
     "execution_count": 15,
     "metadata": {},
     "output_type": "execute_result"
    }
   ],
   "source": [
    "#Q11\n",
    "df3['Loss_Ratio'] = df3['Loss_Amount'] / df3['Annual_Premium']\n",
    "df3['Loss_Ratio']\n",
    "df3"
   ]
  },
  {
   "cell_type": "code",
   "execution_count": 16,
   "metadata": {},
   "outputs": [
    {
     "data": {
      "text/html": [
       "<div>\n",
       "<style scoped>\n",
       "    .dataframe tbody tr th:only-of-type {\n",
       "        vertical-align: middle;\n",
       "    }\n",
       "\n",
       "    .dataframe tbody tr th {\n",
       "        vertical-align: top;\n",
       "    }\n",
       "\n",
       "    .dataframe thead th {\n",
       "        text-align: right;\n",
       "    }\n",
       "</style>\n",
       "<table border=\"1\" class=\"dataframe\">\n",
       "  <thead>\n",
       "    <tr style=\"text-align: right;\">\n",
       "      <th></th>\n",
       "      <th>Driver_Minimum_Age</th>\n",
       "      <th>Vehicle_Age_In_Years</th>\n",
       "      <th>Annual_Premium</th>\n",
       "      <th>Loss_Amount</th>\n",
       "      <th>Loss_Ratio</th>\n",
       "    </tr>\n",
       "    <tr>\n",
       "      <th>Vehicle_Anti_Theft_Device</th>\n",
       "      <th></th>\n",
       "      <th></th>\n",
       "      <th></th>\n",
       "      <th></th>\n",
       "      <th></th>\n",
       "    </tr>\n",
       "  </thead>\n",
       "  <tbody>\n",
       "    <tr>\n",
       "      <th>Active Disabling</th>\n",
       "      <td>47.183486</td>\n",
       "      <td>6.247706</td>\n",
       "      <td>424.710275</td>\n",
       "      <td>80.228807</td>\n",
       "      <td>0.188902</td>\n",
       "    </tr>\n",
       "    <tr>\n",
       "      <th>Not Applicable</th>\n",
       "      <td>47.352516</td>\n",
       "      <td>8.283253</td>\n",
       "      <td>263.447212</td>\n",
       "      <td>158.091151</td>\n",
       "      <td>0.600087</td>\n",
       "    </tr>\n",
       "    <tr>\n",
       "      <th>Alarm Only</th>\n",
       "      <td>46.151282</td>\n",
       "      <td>5.987179</td>\n",
       "      <td>415.552846</td>\n",
       "      <td>305.996641</td>\n",
       "      <td>0.736360</td>\n",
       "    </tr>\n",
       "    <tr>\n",
       "      <th>Passive Disabling-Vehicle Recovery</th>\n",
       "      <td>43.649392</td>\n",
       "      <td>5.136276</td>\n",
       "      <td>446.322354</td>\n",
       "      <td>516.527543</td>\n",
       "      <td>1.157297</td>\n",
       "    </tr>\n",
       "  </tbody>\n",
       "</table>\n",
       "</div>"
      ],
      "text/plain": [
       "                                    Driver_Minimum_Age  Vehicle_Age_In_Years  \\\n",
       "Vehicle_Anti_Theft_Device                                                      \n",
       "Active Disabling                             47.183486              6.247706   \n",
       "Not Applicable                               47.352516              8.283253   \n",
       "Alarm Only                                   46.151282              5.987179   \n",
       "Passive Disabling-Vehicle Recovery           43.649392              5.136276   \n",
       "\n",
       "                                    Annual_Premium  Loss_Amount  Loss_Ratio  \n",
       "Vehicle_Anti_Theft_Device                                                    \n",
       "Active Disabling                        424.710275    80.228807    0.188902  \n",
       "Not Applicable                          263.447212   158.091151    0.600087  \n",
       "Alarm Only                              415.552846   305.996641    0.736360  \n",
       "Passive Disabling-Vehicle Recovery      446.322354   516.527543    1.157297  "
      ]
     },
     "execution_count": 16,
     "metadata": {},
     "output_type": "execute_result"
    }
   ],
   "source": [
    "#Q12\n",
    "df3.sort_values(by='Loss_Ratio', ascending=True)"
   ]
  },
  {
   "cell_type": "code",
   "execution_count": 17,
   "metadata": {},
   "outputs": [
    {
     "data": {
      "text/plain": [
       "<matplotlib.axes._subplots.AxesSubplot at 0x1b3c3cd2888>"
      ]
     },
     "execution_count": 17,
     "metadata": {},
     "output_type": "execute_result"
    },
    {
     "data": {
      "image/png": "[encoded data removed]",
      "text/plain": [
       "<Figure size 432x288 with 1 Axes>"
      ]
     },
     "metadata": {
      "needs_background": "light"
     },
     "output_type": "display_data"
    }
   ],
   "source": [
    "#Q13\n",
    "df3.plot.bar(y='Loss_Ratio', rot=0)"
   ]
  },
  {
   "cell_type": "code",
   "execution_count": 18,
   "metadata": {},
   "outputs": [],
   "source": [
    "#Q14\n",
    "#Conclusion from the bar plot above:\n",
    "#The loss ratio based on the type of vehicle anti theft device indicates that Passively Disabling-Vehicle Recovery has the highest \n",
    "#loss ratio which further implies the annual premiumn and loan amount could be high for the insurer; and hence\n",
    "#when this high, insurance companies would be paying out more claims thus losing profit for themselves"
   ]
  },
  {
   "cell_type": "code",
   "execution_count": 19,
   "metadata": {},
   "outputs": [],
   "source": [
    "#Q15\n",
    "df3.to_csv('summary.csv')"
   ]
  },
  {
   "cell_type": "code",
   "execution_count": 20,
   "metadata": {},
   "outputs": [
    {
     "data": {
      "text/plain": [
       "matrix([[ 80.22880734, 305.99664103, 158.09115093, 516.52754319]])"
      ]
     },
     "execution_count": 20,
     "metadata": {},
     "output_type": "execute_result"
    }
   ],
   "source": [
    "#Q16\n",
    "n = np.matrix(df3['Loss_Amount'],df3['Annual_Premium'])\n",
    "n"
   ]
  },
  {
   "cell_type": "code",
   "execution_count": 21,
   "metadata": {},
   "outputs": [
    {
     "data": {
      "text/plain": [
       "matrix([[424.71027523, 415.55284615, 263.44721227, 446.32235445]])"
      ]
     },
     "execution_count": 21,
     "metadata": {},
     "output_type": "execute_result"
    }
   ],
   "source": [
    "n1 = np.matrix(df3['Annual_Premium'],df3['Loss_Amount'])\n",
    "n1"
   ]
  },
  {
   "cell_type": "code",
   "execution_count": 22,
   "metadata": {},
   "outputs": [
    {
     "data": {
      "text/plain": [
       "matrix([[ 80.22880734],\n",
       "        [305.99664103],\n",
       "        [158.09115093],\n",
       "        [516.52754319]])"
      ]
     },
     "execution_count": 22,
     "metadata": {},
     "output_type": "execute_result"
    }
   ],
   "source": [
    "#Q17\n",
    "n.T"
   ]
  },
  {
   "cell_type": "code",
   "execution_count": 23,
   "metadata": {},
   "outputs": [
    {
     "data": {
      "text/plain": [
       "matrix([[424.71027523],\n",
       "        [415.55284615],\n",
       "        [263.44721227],\n",
       "        [446.32235445]])"
      ]
     },
     "execution_count": 23,
     "metadata": {},
     "output_type": "execute_result"
    }
   ],
   "source": [
    "n1.T"
   ]
  },
  {
   "cell_type": "code",
   "execution_count": 24,
   "metadata": {},
   "outputs": [
    {
     "data": {
      "text/plain": [
       "array([[158.09115093]])"
      ]
     },
     "execution_count": 24,
     "metadata": {},
     "output_type": "execute_result"
    }
   ],
   "source": [
    "#Q18\n",
    "v = np.copy(n.T[2])\n",
    "v"
   ]
  },
  {
   "cell_type": "code",
   "execution_count": 25,
   "metadata": {},
   "outputs": [
    {
     "data": {
      "text/plain": [
       "array([[263.44721227]])"
      ]
     },
     "execution_count": 25,
     "metadata": {},
     "output_type": "execute_result"
    }
   ],
   "source": [
    "v1 = np.copy(n1.T[2])\n",
    "v1"
   ]
  },
  {
   "cell_type": "code",
   "execution_count": 26,
   "metadata": {},
   "outputs": [
    {
     "data": {
      "application/vnd.jupyter.widget-view+json": {
       "model_id": "f90e0d8e57d04297a8c69d37e98455a1",
       "version_major": 2,
       "version_minor": 0
      },
      "text/plain": [
       "HBox(children=(FloatProgress(value=0.0, description='Summarize dataset', max=83.0, style=ProgressStyle(descrip…"
      ]
     },
     "metadata": {},
     "output_type": "display_data"
    },
    {
     "name": "stdout",
     "output_type": "stream",
     "text": [
      "\n"
     ]
    },
    {
     "data": {
      "application/vnd.jupyter.widget-view+json": {
       "model_id": "915a1485dbb84ec49d06a0df55284979",
       "version_major": 2,
       "version_minor": 0
      },
      "text/plain": [
       "HBox(children=(FloatProgress(value=0.0, description='Generate report structure', max=1.0, style=ProgressStyle(…"
      ]
     },
     "metadata": {},
     "output_type": "display_data"
    },
    {
     "name": "stdout",
     "output_type": "stream",
     "text": [
      "\n"
     ]
    },
    {
     "data": {
      "application/vnd.jupyter.widget-view+json": {
       "model_id": "ddd05c65711f4a1a824db28fbe6f7a57",
       "version_major": 2,
       "version_minor": 0
      },
      "text/plain": [
       "HBox(children=(FloatProgress(value=0.0, description='Render HTML', max=1.0, style=ProgressStyle(description_wi…"
      ]
     },
     "metadata": {},
     "output_type": "display_data"
    },
    {
     "name": "stdout",
     "output_type": "stream",
     "text": [
      "\n"
     ]
    },
    {
     "data": {
      "application/vnd.jupyter.widget-view+json": {
       "model_id": "10b120b8a190438b9569c525630c9bb6",
       "version_major": 2,
       "version_minor": 0
      },
      "text/plain": [
       "HBox(children=(FloatProgress(value=0.0, description='Export report to file', max=1.0, style=ProgressStyle(desc…"
      ]
     },
     "metadata": {},
     "output_type": "display_data"
    },
    {
     "name": "stdout",
     "output_type": "stream",
     "text": [
      "\n"
     ]
    }
   ],
   "source": [
    "#Q19\n",
    "from pandas_profiling import ProfileReport\n",
    "profile = ProfileReport(df)\n",
    "profile.to_file(\"example_portfolio_report.html\")"
   ]
  },
  {
   "cell_type": "code",
   "execution_count": 27,
   "metadata": {},
   "outputs": [],
   "source": [
    "#20\n",
    "#Our first finding from the report was the abundance of highly correlated variables. There were a total of ten different relationships are co-dependent on each other.\n",
    "#Each policyno corresponds to one type of vehicle anti theft device. All the values are distinct values.\n",
    "#There are 4 highly skewed columns (Loss_Amount, Frequency, Severity, Loss_Ratio) which are also zero columns. I think given these skewed columns which don't have any data populated in them, I think its just adding overhead/overfitting our model. In a sense, I think these act as outliers to the overall data set.\n"
   ]
  }
 ],
 "metadata": {
  "kernelspec": {
   "display_name": "Python 3",
   "language": "python",
   "name": "python3"
  },
  "language_info": {
   "codemirror_mode": {
    "name": "ipython",
    "version": 3
   },
   "file_extension": ".py",
   "mimetype": "text/x-python",
   "name": "python",
   "nbconvert_exporter": "python",
   "pygments_lexer": "ipython3",
   "version": "3.8.5"
  }
 },
 "nbformat": 4,
 "nbformat_minor": 4
}
